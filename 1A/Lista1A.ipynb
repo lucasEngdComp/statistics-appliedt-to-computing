{
  "nbformat": 4,
  "nbformat_minor": 0,
  "metadata": {
    "colab": {
      "name": "Lista1A.ipynb",
      "provenance": []
    },
    "kernelspec": {
      "name": "python3",
      "display_name": "Python 3"
    },
    "language_info": {
      "name": "python"
    }
  },
  "cells": [
    {
      "cell_type": "markdown",
      "metadata": {
        "id": "qWbwvFpdOhBw"
      },
      "source": [
        "1) Determine se os dados são qualitativos ou quantitativos. Explique seu raciocínio.\n",
        "- Alturas de balões de ar quente -> Quantitativa, por que podemos dizer quantos metros os balões podem chegar em média.\n",
        "- Capacidades de carga de caminhonetes -> Quantitativa, podemos calcular a quantidade de carga que o caminhão suporta.\n",
        "- Cores dos olhos de modelos -> Qualitativa. Estamos observando as cores dos olhos das modelos, portanto estamos dando uma qualidade.\n",
        "- Números de identidade de estudantes -> Quantitativa, estamos observando quantas identidades existem de estudantes.\n",
        "- Respostas em uma pesquisa de opinião. -> Quantitativa. Quantas respostas da pesquisa foram coletadas."
      ]
    },
    {
      "cell_type": "markdown",
      "metadata": {
        "id": "bXLzNgn7WKcN"
      },
      "source": [
        "2) \n",
        "- Sexo: Qualitativa, porque estamos categorizando se é masculino ou feminino e é qualitativa nominal porque não podemos ordená-las quantitativamente.(**Qualitativa nominal**).\n",
        "- Predileta: Qualitativa, porque estamos categorizando nomes, nesse caso são as matérias elas são nominais, porque não podemos ordenar quantitativamente os nomes.(**Qualitativa nominal**).\n",
        "- Nota: **Quantitativa discreta**, pois, podemos enumerar os valores e podemos ordena-los."
      ]
    },
    {
      "cell_type": "markdown",
      "metadata": {
        "id": "WYh-061jeEeP"
      },
      "source": [
        "3)\n",
        "- PAP; Quantitativa discreta, aqui temos valores finitos 1 ou 0, sendo assim possível enumerar.\n",
        "- GI; Qualitativa ordinal, podemos colocar em ordem por escolaridade, mas não podemos quantificar a diferença entre chefes.\n",
        "- RES: Quantitativa  discreta, pois o conjunto é finito. Podemos dizer exatamente quantos membros existem na casa A ou na casa B.\n",
        "- RENDA Quantitativa contínua, pois temos valores expressos como número real, que pode ser somado.\n"
      ]
    }
  ]
}